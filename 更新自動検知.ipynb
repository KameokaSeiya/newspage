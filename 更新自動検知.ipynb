{
 "cells": [
  {
   "cell_type": "code",
   "execution_count": 19,
   "id": "1881118c-3c20-4121-88b2-6ec500d644cf",
   "metadata": {},
   "outputs": [],
   "source": [
    "from bs4 import BeautifulSoup\n",
    "import requests\n",
    "url='http://www.saitama-u.ac.jp/'\n",
    "res=requests.get(url)"
   ]
  },
  {
   "cell_type": "code",
   "execution_count": 20,
   "id": "13757944-9da2-4b12-97cd-77a9b6863bd2",
   "metadata": {},
   "outputs": [
    {
     "data": {
      "text/plain": [
       "<Response [200]>"
      ]
     },
     "execution_count": 20,
     "metadata": {},
     "output_type": "execute_result"
    }
   ],
   "source": [
    "res"
   ]
  },
  {
   "cell_type": "code",
   "execution_count": 21,
   "id": "c5ad0238-a03f-426d-871d-b760cde5d8d2",
   "metadata": {},
   "outputs": [],
   "source": [
    "soup=BeautifulSoup(res.text,'html.parser')\n"
   ]
  },
  {
   "cell_type": "code",
   "execution_count": 22,
   "id": "d5d98307-cc66-4349-bc3b-98a9670cadf4",
   "metadata": {},
   "outputs": [
    {
     "ename": "ModuleNotFoundError",
     "evalue": "No module named 'selenium'",
     "output_type": "error",
     "traceback": [
      "\u001b[1;31m---------------------------------------------------------------------------\u001b[0m",
      "\u001b[1;31mModuleNotFoundError\u001b[0m                       Traceback (most recent call last)",
      "\u001b[1;32m<ipython-input-22-9a2110288999>\u001b[0m in \u001b[0;36m<module>\u001b[1;34m\u001b[0m\n\u001b[1;32m----> 1\u001b[1;33m \u001b[1;32mfrom\u001b[0m \u001b[0mselenium\u001b[0m \u001b[1;32mimport\u001b[0m \u001b[0mwebdriver\u001b[0m\u001b[1;33m\u001b[0m\u001b[1;33m\u001b[0m\u001b[0m\n\u001b[0m\u001b[0;32m      2\u001b[0m \u001b[1;32mfrom\u001b[0m \u001b[0mwebdriver_manager\u001b[0m\u001b[1;33m.\u001b[0m\u001b[0mchrome\u001b[0m \u001b[1;32mimport\u001b[0m \u001b[0mChromeDriverManager\u001b[0m\u001b[1;33m\u001b[0m\u001b[1;33m\u001b[0m\u001b[0m\n\u001b[0;32m      3\u001b[0m \u001b[0mbrowser\u001b[0m\u001b[1;33m=\u001b[0m\u001b[0mwebdriver\u001b[0m\u001b[1;33m.\u001b[0m\u001b[0mChrome\u001b[0m\u001b[1;33m(\u001b[0m\u001b[0mChromeDriverManager\u001b[0m\u001b[1;33m(\u001b[0m\u001b[1;33m)\u001b[0m\u001b[1;33m.\u001b[0m\u001b[0minstall\u001b[0m\u001b[1;33m(\u001b[0m\u001b[1;33m)\u001b[0m\u001b[1;33m)\u001b[0m\u001b[1;33m\u001b[0m\u001b[1;33m\u001b[0m\u001b[0m\n\u001b[0;32m      4\u001b[0m \u001b[0mbrowser\u001b[0m\u001b[1;33m.\u001b[0m\u001b[0mget\u001b[0m\u001b[1;33m(\u001b[0m\u001b[0murl\u001b[0m\u001b[1;33m)\u001b[0m\u001b[1;33m\u001b[0m\u001b[1;33m\u001b[0m\u001b[0m\n",
      "\u001b[1;31mModuleNotFoundError\u001b[0m: No module named 'selenium'"
     ]
    }
   ],
   "source": [
    "from selenium import webdriver\n",
    "from webdriver_manager.chrome import ChromeDriverManager\n",
    "browser=webdriver.Chrome(ChromeDriverManager().install())\n",
    "browser.get(url)"
   ]
  },
  {
   "cell_type": "code",
   "execution_count": 23,
   "id": "8d640da6-0e2a-4dc4-9c29-e878f850c6f8",
   "metadata": {},
   "outputs": [
    {
     "data": {
      "text/plain": [
       "'[]'"
      ]
     },
     "execution_count": 23,
     "metadata": {},
     "output_type": "execute_result"
    }
   ],
   "source": [
    "new_elem=str(soup.select('.mtx line news'))\n",
    "new_elem"
   ]
  },
  {
   "cell_type": "code",
   "execution_count": 24,
   "id": "1911760e-63d9-4b0f-952e-24cd88bca49e",
   "metadata": {},
   "outputs": [],
   "source": [
    "#例外処理\n",
    "try:\n",
    "    with open('old_elem.txt')as f:\n",
    "        old_elem=f.read()\n",
    "except:\n",
    "    old_elem=''"
   ]
  },
  {
   "cell_type": "code",
   "execution_count": 25,
   "id": "fdedf105-73a4-4e14-972c-5b755a084c7b",
   "metadata": {},
   "outputs": [
    {
     "data": {
      "text/plain": [
       "'[]'"
      ]
     },
     "execution_count": 25,
     "metadata": {},
     "output_type": "execute_result"
    }
   ],
   "source": [
    "old_elem"
   ]
  },
  {
   "cell_type": "code",
   "execution_count": 26,
   "id": "ab9fef33-b6a1-4489-8bf3-8345518bb797",
   "metadata": {},
   "outputs": [
    {
     "name": "stdout",
     "output_type": "stream",
     "text": [
      "変化なし\n"
     ]
    }
   ],
   "source": [
    "if new_elem==old_elem:\n",
    "    print('変化なし')\n",
    "else:\n",
    "    with open('old_elem.txt','w')as f:\n",
    "        f.write(new_elem)\n",
    "    print('webページが更新された')"
   ]
  },
  {
   "cell_type": "code",
   "execution_count": 15,
   "id": "970447da-2a8e-4972-bc03-3ce4eedebded",
   "metadata": {},
   "outputs": [],
   "source": [
    "def detect_update():\n",
    "    url='https://scraping.official.ec/items/40792454'\n",
    "    res=requests.get(url)\n",
    "\n",
    "    soup=BeautifulSoup(res.text,'html.parser')\n",
    "    new_elem=str(soup.select('.item-detail_soldOut_f7fcddbf'))\n",
    "\n",
    "    try:\n",
    "        with open('old_elem.txt')as f:\n",
    "            old_elem=f.read()\n",
    "    except:\n",
    "        old_elem=''\n",
    "\n",
    "    if new_elem==old_elem:\n",
    "        print('変化なし')\n",
    "        return False\n",
    "    else:\n",
    "        with open('old_elem.txt','w')as f:\n",
    "            f.write(new_elem)\n",
    "        print('webページが更新された')   \n",
    "        return True"
   ]
  },
  {
   "cell_type": "code",
   "execution_count": null,
   "id": "6a84e03c-769d-450a-97d1-26c89882a3c9",
   "metadata": {},
   "outputs": [],
   "source": []
  },
  {
   "cell_type": "code",
   "execution_count": null,
   "id": "c25d4212-2928-4db1-809e-aa9c42315e35",
   "metadata": {},
   "outputs": [],
   "source": []
  },
  {
   "cell_type": "code",
   "execution_count": null,
   "id": "28e0519b-0d43-47a0-9bff-e45a5f2eb251",
   "metadata": {},
   "outputs": [],
   "source": [
    "#LINEチャットボット"
   ]
  },
  {
   "cell_type": "code",
   "execution_count": 29,
   "id": "893e6536-2f80-48d4-bd68-da68c2c4a8f2",
   "metadata": {},
   "outputs": [
    {
     "name": "stdout",
     "output_type": "stream",
     "text": [
      "Collecting line-bot-sdk\n",
      "  Downloading line_bot_sdk-2.2.1-py2.py3-none-any.whl (87 kB)\n",
      "     ---------------------------------------- 87.5/87.5 KB 1.6 MB/s eta 0:00:00\n",
      "Requirement already satisfied: requests>=2.0 in c:\\users\\seiya\\appdata\\local\\programs\\python\\python310\\lib\\site-packages (from line-bot-sdk) (2.27.1)\n",
      "Collecting aiohttp>=3.7.4\n",
      "  Downloading aiohttp-3.8.1-cp310-cp310-win_amd64.whl (555 kB)\n",
      "     -------------------------------------- 555.1/555.1 KB 7.0 MB/s eta 0:00:00\n",
      "Collecting future\n",
      "  Downloading future-0.18.2.tar.gz (829 kB)\n",
      "     ------------------------------------- 829.2/829.2 KB 13.2 MB/s eta 0:00:00\n",
      "  Preparing metadata (setup.py): started\n",
      "  Preparing metadata (setup.py): finished with status 'done'\n",
      "Collecting multidict<7.0,>=4.5\n",
      "  Downloading multidict-6.0.2-cp310-cp310-win_amd64.whl (27 kB)\n",
      "Collecting async-timeout<5.0,>=4.0.0a3\n",
      "  Downloading async_timeout-4.0.2-py3-none-any.whl (5.8 kB)\n",
      "Collecting frozenlist>=1.1.1\n",
      "  Downloading frozenlist-1.3.0-cp310-cp310-win_amd64.whl (33 kB)\n",
      "Collecting yarl<2.0,>=1.0\n",
      "  Downloading yarl-1.7.2-cp310-cp310-win_amd64.whl (122 kB)\n",
      "     ---------------------------------------- 122.2/122.2 KB ? eta 0:00:00\n",
      "Requirement already satisfied: attrs>=17.3.0 in c:\\users\\seiya\\appdata\\local\\programs\\python\\python310\\lib\\site-packages (from aiohttp>=3.7.4->line-bot-sdk) (21.4.0)\n",
      "Requirement already satisfied: charset-normalizer<3.0,>=2.0 in c:\\users\\seiya\\appdata\\local\\programs\\python\\python310\\lib\\site-packages (from aiohttp>=3.7.4->line-bot-sdk) (2.0.12)\n",
      "Collecting aiosignal>=1.1.2\n",
      "  Downloading aiosignal-1.2.0-py3-none-any.whl (8.2 kB)\n",
      "Requirement already satisfied: urllib3<1.27,>=1.21.1 in c:\\users\\seiya\\appdata\\local\\programs\\python\\python310\\lib\\site-packages (from requests>=2.0->line-bot-sdk) (1.26.9)\n",
      "Requirement already satisfied: certifi>=2017.4.17 in c:\\users\\seiya\\appdata\\local\\programs\\python\\python310\\lib\\site-packages (from requests>=2.0->line-bot-sdk) (2021.10.8)\n",
      "Requirement already satisfied: idna<4,>=2.5 in c:\\users\\seiya\\appdata\\local\\programs\\python\\python310\\lib\\site-packages (from requests>=2.0->line-bot-sdk) (3.3)\n",
      "Using legacy 'setup.py install' for future, since package 'wheel' is not installed.\n",
      "Installing collected packages: multidict, future, frozenlist, async-timeout, yarl, aiosignal, aiohttp, line-bot-sdk\n",
      "  Running setup.py install for future: started\n",
      "  Running setup.py install for future: finished with status 'done'\n",
      "Successfully installed aiohttp-3.8.1 aiosignal-1.2.0 async-timeout-4.0.2 frozenlist-1.3.0 future-0.18.2 line-bot-sdk-2.2.1 multidict-6.0.2 yarl-1.7.2\n"
     ]
    }
   ],
   "source": [
    "!pip install line-bot-sdk"
   ]
  },
  {
   "cell_type": "code",
   "execution_count": null,
   "id": "6e9c216d-45eb-4ca4-9583-091e3339c1d2",
   "metadata": {},
   "outputs": [],
   "source": [
    "#jsonファイル読み込み"
   ]
  },
  {
   "cell_type": "code",
   "execution_count": 41,
   "id": "811c0861-a9d0-4e72-a894-00514739d5d3",
   "metadata": {},
   "outputs": [
    {
     "data": {
      "text/plain": [
       "{'CHANNEL_ACCESS_TOKEN': 'AYtLnOe0O4szpZebQa6hk7gsaq0mfa9jpGTGn4if0af1AfDAPRnm8DkN9GN+9OW2Dt4OohA3j95N8KbEHBozWYDyY7ZYSS25kGdvXzS+eRzNIRSU2D+Qb3O4KJBwWmMeTz3Lk2EbG1wkskD6s5QllwdB04t89/1O/w1cDnyilFU=',\n",
       " 'USER_ID': 'U4112dc0901b76442ba54a8fe9f9dbdf7'}"
      ]
     },
     "execution_count": 41,
     "metadata": {},
     "output_type": "execute_result"
    }
   ],
   "source": [
    "import json\n",
    "file=open('info.json','r')\n",
    "info=json.load(file)\n",
    "info"
   ]
  },
  {
   "cell_type": "code",
   "execution_count": 42,
   "id": "ca6b8ee9-81b4-4eb7-b1a4-094783a8935a",
   "metadata": {},
   "outputs": [],
   "source": [
    "from linebot import LineBotApi\n",
    "from linebot.models import TextSendMessage"
   ]
  },
  {
   "cell_type": "code",
   "execution_count": 43,
   "id": "13adbe2d-ac1e-4713-8b91-c73e79735808",
   "metadata": {},
   "outputs": [],
   "source": [
    "CHANNEL_ACCESS_TOKEN=info['CHANNEL_ACCESS_TOKEN']\n",
    "line_bot_api=LineBotApi(CHANNEL_ACCESS_TOKEN)"
   ]
  },
  {
   "cell_type": "code",
   "execution_count": 44,
   "id": "eb6eaebb-6641-4fcd-a848-1f0213445bf3",
   "metadata": {},
   "outputs": [],
   "source": [
    "def main():\n",
    "    USER_ID=info['USER_ID']\n",
    "    messages=TextSendMessage(text=\"更新されました\")\n",
    "    line_bot_api.push_message(USER_ID,messages)\n",
    "    \n",
    "if __name__==\"__main__\":\n",
    "    main()"
   ]
  },
  {
   "cell_type": "code",
   "execution_count": null,
   "id": "4cc6a386-9eb8-4280-852a-36027466e447",
   "metadata": {},
   "outputs": [],
   "source": []
  },
  {
   "cell_type": "code",
   "execution_count": null,
   "id": "b426f5aa-82e2-4df4-8f70-d73a0434d3a5",
   "metadata": {},
   "outputs": [],
   "source": []
  },
  {
   "cell_type": "code",
   "execution_count": null,
   "id": "db6f09d6-aa94-4398-bfe4-bae86dc29e2f",
   "metadata": {},
   "outputs": [],
   "source": []
  },
  {
   "cell_type": "code",
   "execution_count": null,
   "id": "71dc29dd-7a0a-4c52-9a32-f8447ed7960c",
   "metadata": {},
   "outputs": [],
   "source": []
  },
  {
   "cell_type": "code",
   "execution_count": null,
   "id": "33bdc843-4ae0-4d0a-a649-7b688a5d8bfb",
   "metadata": {},
   "outputs": [],
   "source": []
  },
  {
   "cell_type": "code",
   "execution_count": null,
   "id": "328762ad-c862-4acf-ac08-a2dc67785f55",
   "metadata": {},
   "outputs": [],
   "source": []
  },
  {
   "cell_type": "code",
   "execution_count": null,
   "id": "20a06cf5-3788-4e55-87d6-b1b051dd2849",
   "metadata": {},
   "outputs": [],
   "source": []
  },
  {
   "cell_type": "code",
   "execution_count": null,
   "id": "7faad1a0-075f-4493-bd0e-5ae9ca9d61ce",
   "metadata": {},
   "outputs": [],
   "source": []
  }
 ],
 "metadata": {
  "kernelspec": {
   "display_name": "Python 3",
   "language": "python",
   "name": "python3"
  },
  "language_info": {
   "codemirror_mode": {
    "name": "ipython",
    "version": 3
   },
   "file_extension": ".py",
   "mimetype": "text/x-python",
   "name": "python",
   "nbconvert_exporter": "python",
   "pygments_lexer": "ipython3",
   "version": "3.8.8"
  }
 },
 "nbformat": 4,
 "nbformat_minor": 5
}
