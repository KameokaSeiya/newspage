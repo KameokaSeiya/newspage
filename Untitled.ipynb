{
 "cells": [
  {
   "cell_type": "code",
   "execution_count": 21,
   "id": "2d8f39e9-d830-448c-bc38-70c62d37082a",
   "metadata": {},
   "outputs": [],
   "source": [
    "import smtplib\n",
    "from email.mime.text import MIMEText\n",
    "from email.utils import formatdate\n",
    "\n",
    "def create_message(from_addr, to_addr, bcc_addrs, subject, body):\n",
    "    msg = MIMEText(body)\n",
    "    msg['Subject'] = subject\n",
    "    msg['From'] = from_addr\n",
    "    msg['To'] = to_addr\n",
    "    msg['Bcc'] = bcc_addrs\n",
    "    msg['Date'] = formatdate()\n",
    "    return msg\n",
    "\n",
    "def send(from_addr, to_addrs, msg, my_password):\n",
    "    smtpobj = smtplib.SMTP('smtp.gmail.com', 587) # GmailのSMTPサーバーへ\n",
    "    smtpobj.ehlo()\n",
    "    smtpobj.starttls()\n",
    "    smtpobj.ehlo()\n",
    "    smtpobj.login(from_addr, my_password)\n",
    "    smtpobj.sendmail(from_addr, to_addrs, msg.as_string())\n",
    "    smtpobj.close()"
   ]
  },
  {
   "cell_type": "code",
   "execution_count": 22,
   "id": "53876997-ad44-4c44-8dbb-e9863d137da4",
   "metadata": {},
   "outputs": [],
   "source": [
    "import json"
   ]
  },
  {
   "cell_type": "code",
   "execution_count": 23,
   "id": "a88fb469-7d6b-4068-aa75-9e4fb31a56d6",
   "metadata": {},
   "outputs": [],
   "source": [
    "def job():\n",
    "    \n",
    "    with open('secret.json') as f:\n",
    "        info = json.load(f)\n",
    "        \n",
    "    FROM_ADDRESS = info['email']\n",
    "    MY_PASSWORD = info['password']\n",
    "    \n",
    "    TO_ADDRESS = 's.kameoka.227@ms.saitama-u.ac.jp '\n",
    "    BCC = ''\n",
    "    SUBJECT = '自動実行環境構築練習'\n",
    "    BODY = 'これは練習です。'\n",
    "    msg = create_message(FROM_ADDRESS, TO_ADDRESS, BCC, SUBJECT, BODY)\n",
    "    send(FROM_ADDRESS, TO_ADDRESS, msg, MY_PASSWORD)"
   ]
  },
  {
   "cell_type": "code",
   "execution_count": 24,
   "id": "fcafb94f-faae-4232-8978-8ad9a7b5e493",
   "metadata": {},
   "outputs": [],
   "source": [
    "job()"
   ]
  },
  {
   "cell_type": "code",
   "execution_count": 26,
   "id": "7cae82d5-7ff0-4206-b84d-298ee59f664f",
   "metadata": {},
   "outputs": [
    {
     "name": "stdout",
     "output_type": "stream",
     "text": [
      "Collecting schedule\n",
      "  Downloading schedule-1.1.0-py2.py3-none-any.whl (10 kB)\n",
      "Installing collected packages: schedule\n",
      "Successfully installed schedule-1.1.0\n"
     ]
    }
   ],
   "source": [
    "!pip3 install schedule"
   ]
  },
  {
   "cell_type": "code",
   "execution_count": 27,
   "id": "d1ec2f7e-360e-4885-82e6-15aeff83874e",
   "metadata": {},
   "outputs": [],
   "source": [
    "\n",
    "import schedule\n",
    "import time"
   ]
  },
  {
   "cell_type": "code",
   "execution_count": null,
   "id": "4cdf717e-2af3-4d1f-8d6d-998eda93b39c",
   "metadata": {},
   "outputs": [],
   "source": []
  },
  {
   "cell_type": "code",
   "execution_count": 28,
   "id": "e04cb2f9-425d-4c6b-a3d5-d8f6d53d696b",
   "metadata": {},
   "outputs": [
    {
     "data": {
      "text/plain": [
       "Every 5 seconds do job() (last run: [never], next run: 2022-05-12 09:08:39)"
      ]
     },
     "execution_count": 28,
     "metadata": {},
     "output_type": "execute_result"
    }
   ],
   "source": [
    "schedule.every(5).seconds.do(job)"
   ]
  },
  {
   "cell_type": "code",
   "execution_count": null,
   "id": "56cf0cc3-ff75-425b-87be-54f3d294dca9",
   "metadata": {},
   "outputs": [],
   "source": [
    "#schedule.run_pending()"
   ]
  },
  {
   "cell_type": "code",
   "execution_count": 30,
   "id": "00fe0f30-edc3-4180-8bca-e0b253c07a3b",
   "metadata": {},
   "outputs": [
    {
     "ename": "KeyboardInterrupt",
     "evalue": "",
     "output_type": "error",
     "traceback": [
      "\u001b[1;31m---------------------------------------------------------------------------\u001b[0m",
      "\u001b[1;31mKeyboardInterrupt\u001b[0m                         Traceback (most recent call last)",
      "Input \u001b[1;32mIn [30]\u001b[0m, in \u001b[0;36m<cell line: 1>\u001b[1;34m()\u001b[0m\n\u001b[0;32m      1\u001b[0m \u001b[38;5;28;01mwhile\u001b[39;00m \u001b[38;5;28;01mTrue\u001b[39;00m:\n\u001b[0;32m      2\u001b[0m     schedule\u001b[38;5;241m.\u001b[39mrun_pending()\n\u001b[1;32m----> 3\u001b[0m     \u001b[43mtime\u001b[49m\u001b[38;5;241;43m.\u001b[39;49m\u001b[43msleep\u001b[49m\u001b[43m(\u001b[49m\u001b[38;5;241;43m1\u001b[39;49m\u001b[43m)\u001b[49m\n",
      "\u001b[1;31mKeyboardInterrupt\u001b[0m: "
     ]
    }
   ],
   "source": [
    "while True:\n",
    "    schedule.run_pending()\n",
    "    time.sleep(1)"
   ]
  },
  {
   "cell_type": "code",
   "execution_count": 1,
   "id": "98156b96-4a97-41c7-ad4e-d7893927339d",
   "metadata": {},
   "outputs": [
    {
     "data": {
      "text/plain": [
       "'C:\\\\Users\\\\seiya\\\\practice from youtube\\\\定期実行'"
      ]
     },
     "execution_count": 1,
     "metadata": {},
     "output_type": "execute_result"
    }
   ],
   "source": [
    "%pwd"
   ]
  },
  {
   "cell_type": "code",
   "execution_count": 1,
   "id": "f5faaa6b-67f9-4be3-a8cc-f57a4fc14281",
   "metadata": {},
   "outputs": [
    {
     "data": {
      "text/plain": [
       "'C:\\\\Users\\\\seiya\\\\定期実行'"
      ]
     },
     "execution_count": 1,
     "metadata": {},
     "output_type": "execute_result"
    }
   ],
   "source": [
    "%pwd"
   ]
  },
  {
   "cell_type": "code",
   "execution_count": null,
   "id": "8b4bee12-bb11-4e96-bbeb-b2ffc4bfc6c7",
   "metadata": {},
   "outputs": [],
   "source": []
  },
  {
   "cell_type": "code",
   "execution_count": null,
   "id": "2612dbfe-32ea-4c18-b29a-76d8ad43a7b6",
   "metadata": {},
   "outputs": [],
   "source": []
  },
  {
   "cell_type": "code",
   "execution_count": null,
   "id": "a75be332-85f3-4d80-99c4-7cd0041ad6ec",
   "metadata": {},
   "outputs": [],
   "source": []
  },
  {
   "cell_type": "code",
   "execution_count": null,
   "id": "b29e1059-7ea2-48b7-9591-03266ab65e81",
   "metadata": {},
   "outputs": [],
   "source": []
  }
 ],
 "metadata": {
  "kernelspec": {
   "display_name": "Python 3",
   "language": "python",
   "name": "python3"
  },
  "language_info": {
   "codemirror_mode": {
    "name": "ipython",
    "version": 3
   },
   "file_extension": ".py",
   "mimetype": "text/x-python",
   "name": "python",
   "nbconvert_exporter": "python",
   "pygments_lexer": "ipython3",
   "version": "3.8.8"
  }
 },
 "nbformat": 4,
 "nbformat_minor": 5
}
